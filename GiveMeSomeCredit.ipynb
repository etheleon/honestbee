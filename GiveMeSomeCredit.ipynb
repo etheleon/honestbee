{
 "cells": [
  {
   "cell_type": "markdown",
   "metadata": {},
   "source": [
    "# Kaggle Challenge : Give Me Some Credit\n",
    "\n",
    "\n",
    "<img src=\"https://kaggle2.blob.core.windows.net/competitions/kaggle/2551/logos/front_page.png\" style=\"width:200px;height:100px;\">\n",
    "\n",
    "Give Me Some Credit\n",
    "Improve on the state of the art in credit scoring by predicting the probability that somebody will experience financial distress in the next two years.\n",
    "\n",
    "Banks play a crucial role in market economies. They decide who can get finance and on what terms and can make or break investment decisions. For markets and society to function, individuals and companies need access to credit. \n",
    "\n",
    "Credit scoring algorithms, which make a guess at the probability of default, are the method banks use to determine whether or not a loan should be granted. This competition requires participants to improve on the state of the art in credit scoring, by predicting the probability that somebody will experience financial distress in the next two years.\n",
    "\n",
    "The goal of this competition is to build a model that borrowers can use to help make the best financial decisions.\n",
    "\n",
    "Historical data are provided on 250,000 borrowers and \n",
    "the prize pool is 5,000 \n",
    "\n",
    "* 3,000 for first, \n",
    "* 1,500 for second and \n",
    "* 500 for third.\n",
    "\n",
    "## Methods\n",
    "\n",
    "I'm going to implement a ensemble classifier using a couple of methods:\n",
    "\n",
    "* xgboost\n",
    "* Random Forest \n",
    "* SVM\n",
    "* PCA\n",
    "* Artificial Neural Networks\n",
    "\n",
    "## Scoring Metric: Area Under the Curve (AUC)\n",
    "\n",
    "Evaluation is done us the AUC or Receiver operating characteristic (ROC), sometimes also referred collectively as \n",
    " Area Under the Receiver Operating Characteristic curve.\n",
    " \n",
    "\n",
    "Y-axis is True Positive Rate (TPR) / Sensitivity\n",
    "X-axis is the False Positive Rate (FPR) / 1 - specificity\n",
    "\n",
    "<img src=\"https://upload.wikimedia.org/wikipedia/commons/thumb/e/e7/Sensitivity_and_specificity.svg/700px-Sensitivity_and_specificity.svg.png\"  style=\"height:400px; width:200px\">\n",
    "<caption><center> **ROC AUC**</center></caption><br>\n",
    "\n",
    "TPR = True positives / Positives \n",
    "Positives = True Positives + False Negativs\n",
    "\n",
    "FPR = False Positives / Negatives\n",
    "Negatives = True Negatives + False Positives\n",
    "\n",
    "<img src=\"http://mchp-appserv.cpe.umanitoba.ca/concept/roc_gif_small.gif\">\n",
    "<caption><center> **Figure 1**</center></caption><br>\n",
    "\n",
    "Thus having a high AUC curve will be to have a high sensitivity while keeping the false positive rate low\n",
    "\n",
    "Besides AUC/ROC there's also log"
   ]
  },
  {
   "cell_type": "code",
   "execution_count": 3,
   "metadata": {},
   "outputs": [
    {
     "name": "stdout",
     "output_type": "stream",
     "text": [
      "{\n",
      "  \"shell_port\": 35011,\n",
      "  \"iopub_port\": 33659,\n",
      "  \"stdin_port\": 54849,\n",
      "  \"control_port\": 34247,\n",
      "  \"hb_port\": 35099,\n",
      "  \"ip\": \"127.0.0.1\",\n",
      "  \"key\": \"01f2e6c5-3150a01e10667c1221c1d891\",\n",
      "  \"transport\": \"tcp\",\n",
      "  \"signature_scheme\": \"hmac-sha256\",\n",
      "  \"kernel_name\": \"\"\n",
      "}\n",
      "\n",
      "Paste the above JSON into a file, and connect with:\n",
      "    $> jupyter <app> --existing <file>\n",
      "or, if you are local, you can connect with just:\n",
      "    $> jupyter <app> --existing kernel-675dbf3b-12b5-4751-a915-fa846702971e.json\n",
      "or even just:\n",
      "    $> jupyter <app> --existing\n",
      "if this is the most recent Jupyter kernel you have started.\n"
     ]
    }
   ],
   "source": [
    "#now lets import the universe\n",
    "import os\n",
    "import subprocess\n",
    "\n",
    "import pandas as pd\n",
    "import numpy as np \n",
    "\n",
    "#import rpy2\n",
    "#%load_ext rpy2.ipython\n",
    "# use R's ggplot to plot instead\n",
    "\n",
    "#machine learning\n",
    "## xgboost\n",
    "import xgboost as xgb\n",
    "from xgboost import XGBClassifier\n",
    "\n",
    "## sklearn\n",
    "import sklearn\n",
    "from sklearn.pipeline import Pipeline\n",
    "from sklearn.model_selection import train_test_split\n",
    "from sklearn.pipeline import FeatureUnion     #\n",
    "from sklearn_pandas import DataFrameMapper    #\n",
    "from sklearn_pandas import CategoricalImputer #\n",
    "from sklearn.model_selection import cross_val_score\n",
    "from sklearn.feature_extraction import DictVectorizer\n",
    "from sklearn.preprocessing import FunctionTransformer\n",
    "from sklearn.model_selection import RandomizedSearchCV\n",
    "from sklearn.model_selection import GridSearchCV\n",
    "from sklearn.preprocessing import Imputer\n",
    "#score\n",
    "from sklearn.metrics import roc_auc_score\n",
    "\n",
    "%connect_info"
   ]
  },
  {
   "cell_type": "code",
   "execution_count": 4,
   "metadata": {
    "collapsed": true
   },
   "outputs": [],
   "source": [
    "# Custom class used for this analysis\n",
    "# Includes download dataset, submit prediction, load data (includes some preprocessing)\n",
    "from honest import Utils"
   ]
  },
  {
   "cell_type": "code",
   "execution_count": 29,
   "metadata": {},
   "outputs": [
    {
     "name": "stdout",
     "output_type": "stream",
     "text": [
      "Downloading to /data/examples/honestbee\n"
     ]
    }
   ],
   "source": [
    "#Downloads the dataset using Kaggle's API\n",
    "Utils.downloadData()"
   ]
  },
  {
   "cell_type": "markdown",
   "metadata": {},
   "source": [
    "# Input data\n",
    "\n",
    "Below's the description of the input data:\n",
    "\n",
    "| Variable Name | Description | Type |\n",
    "| --- | --- | --- |\n",
    "| SeriousDlqin2yrs  | Person experienced 90 days past due delinquency or worse |  Y/N |\n",
    "| RevolvingUtilizationOfUnsecuredLines  | Total balance on credit cards and personal lines of credit except real estate and no installment debt like car loans divided by the sum of credit limits  | percentage | \n",
    "| age | Age of borrower in years  | integer |\n",
    "| NumberOfTime30-59DaysPastDueNotWorse  | Number of times borrower has been 30-59 days past due but no worse in the last 2 years. | integer |\n",
    "| DebtRatio | Monthly debt payments, alimony,living costs divided by monthy gross income | percentage |\n",
    "| MonthlyIncome | Monthly income  | real |\n",
    "| NumberOfOpenCreditLinesAndLoans | Number of Open loans (installment like car loan or mortgage) and Lines of credit (e.g. credit cards)  | integer |\n",
    "| NumberOfTimes90DaysLate | Number of times borrower has been 90 days or more past due. | integer |\n",
    "| NumberRealEstateLoansOrLines  | Number of mortgage and real estate loans including home equity lines of credit  | integer| \n",
    "| NumberOfTime60-89DaysPastDueNotWorse  | Number of times borrower has been 60-89 days past due but no worse in the last 2 years. | integer | \n",
    "| NumberOfDependents |  Number of dependents in family excluding themselves (spouse, children etc.) | integer | "
   ]
  },
  {
   "cell_type": "markdown",
   "metadata": {},
   "source": [
    "# Exploratory Analysis\n",
    "\n",
    "## 1. Class imbalance "
   ]
  },
  {
   "cell_type": "code",
   "execution_count": 16,
   "metadata": {},
   "outputs": [
    {
     "data": {
      "text/html": [
       "<div>\n",
       "<style>\n",
       "    .dataframe thead tr:only-child th {\n",
       "        text-align: right;\n",
       "    }\n",
       "\n",
       "    .dataframe thead th {\n",
       "        text-align: left;\n",
       "    }\n",
       "\n",
       "    .dataframe tbody tr th {\n",
       "        vertical-align: top;\n",
       "    }\n",
       "</style>\n",
       "<table border=\"1\" class=\"dataframe\">\n",
       "  <thead>\n",
       "    <tr style=\"text-align: right;\">\n",
       "      <th></th>\n",
       "      <th>class</th>\n",
       "      <th>value</th>\n",
       "    </tr>\n",
       "  </thead>\n",
       "  <tbody>\n",
       "    <tr>\n",
       "      <th>0</th>\n",
       "      <td>defaulted</td>\n",
       "      <td>10026</td>\n",
       "    </tr>\n",
       "    <tr>\n",
       "      <th>1</th>\n",
       "      <td>clean</td>\n",
       "      <td>139974</td>\n",
       "    </tr>\n",
       "  </tbody>\n",
       "</table>\n",
       "</div>"
      ],
      "text/plain": [
       "       class   value\n",
       "0  defaulted   10026\n",
       "1      clean  139974"
      ]
     },
     "execution_count": 16,
     "metadata": {},
     "output_type": "execute_result"
    }
   ],
   "source": [
    "X_train, X_test, y_train, y_test, testDF = Utils.loadData(preprocessed=False)\n",
    "defaulted = np.sum(y_train != 0) + np.sum(y_test != 0)\n",
    "clean = np.sum(y_train == 0) + np.sum(y_test == 0)\n",
    "\n",
    "classSep = pd.DataFrame({\n",
    "    \"class\":[\"defaulted\",\"clean\"],\n",
    "    \"value\":[defaulted, clean]\n",
    "}, index=[0,1])\n",
    "classSep"
   ]
  },
  {
   "cell_type": "code",
   "execution_count": 19,
   "metadata": {},
   "outputs": [
    {
     "data": {
      "image/png": "[encoded data removed]"
     },
     "metadata": {},
     "output_type": "display_data"
    }
   ],
   "source": [
    "%%R -i classSep -w 10 -h 5 -u in\n",
    "\n",
    "suppressPackageStartupMessages({\n",
    "    library(tidyverse)\n",
    "    library(cowplot)\n",
    "})\n",
    "\n",
    "suppressMessages({\n",
    "    p1 = ggplot(classSep, aes(class, value, fill=class))+ \n",
    "        geom_histogram(stat=\"identity\") +\n",
    "        geom_text(aes(y=value, label=value)) + \n",
    "        scale_fill_discrete(\"Default\", labels=c(\"Good\", \"Default\")) +\n",
    "        scale_y_log10() + ggtitle(\"Y-Log10 scale\")\n",
    "     p2 = ggplot(classSep, aes(class, value, fill=class))+ \n",
    "        geom_histogram(stat=\"identity\") +\n",
    "        geom_text(aes(y=value, label=value)) + \n",
    "        scale_fill_discrete(\"Default\", labels=c(\"Good\", \"Default\")) + ggtitle(\"Linear Y Scale\")\n",
    "    p = plot_grid(p1, p2, nrow=1) \n",
    "    print(p)\n",
    "        })   "
   ]
  },
  {
   "cell_type": "code",
   "execution_count": null,
   "metadata": {
    "collapsed": true
   },
   "outputs": [],
   "source": [
    "%%R -i X_train \n",
    "\n",
    "suppressWarnings({ \n",
    "        library(tidyverse)\n",
    "        library(GGally)\n",
    "        ggpairs(X_train) %>% ggsave(filename=\"ggpairs.png\", w=30, h=30, dpi=300) \n",
    "})"
   ]
  },
  {
   "cell_type": "markdown",
   "metadata": {},
   "source": [
    "<img src=\"./ggpairs.png\">\n",
    "<caption><center> **Figure 2**: Pairs plot</center></caption><br>"
   ]
  },
  {
   "cell_type": "markdown",
   "metadata": {},
   "source": [
    "__Observation:__ A lot of the colunmns do not follow a guassian distribution, lets do some log transformation on it. "
   ]
  },
  {
   "cell_type": "code",
   "execution_count": null,
   "metadata": {
    "collapsed": true
   },
   "outputs": [],
   "source": [
    "%%R -i X_train \n",
    "\n",
    "suppressWarnings({ \n",
    "        library(tidyverse)\n",
    "        library(GGally)\n",
    "        X_train %>% select(-DebtRatio, -NumberOfTime30.59DaysPastDueNotWorse, -MonthlyIncome, \n",
    "                                    -NumberOfOpenCreditLinesAndLoans, -NumberOfTimes90DaysLate, \n",
    "                                    -NumberRealEstateLoansOrLines, -NumberOfTime60.89DaysPastDueNotWorse) %>% \n",
    "        ggpairs() %>%\n",
    "        ggsave(filename=\"ggpairslog.png\", w=30, h=30, dpi=300) \n",
    "})"
   ]
  },
  {
   "cell_type": "markdown",
   "metadata": {
    "collapsed": true
   },
   "source": [
    "<img src=\"./ggpairslog.png\">\n",
    "<caption><center> **Figure 2**: Pairs plot</center></caption><br>"
   ]
  },
  {
   "cell_type": "markdown",
   "metadata": {},
   "source": [
    "Better now, lets try with the different classifiers."
   ]
  },
  {
   "cell_type": "markdown",
   "metadata": {},
   "source": [
    "# Model1: XGB\n",
    "\n",
    "XGB is an ensemble based classifier based on a generalised gradient boosting algorithm. Other packages do exist like lightGBM from microsoft. \n",
    "\n",
    "Usually the base classifier is a decision tree, where each tree is built sequentially after the one another, with the new predictor directly addresses the weaknesses in the previous models.\n",
    "\n",
    "<img src=\"https://raw.githubusercontent.com/dmlc/web-data/master/xgboost/model/twocart.png\">"
   ]
  },
  {
   "cell_type": "code",
   "execution_count": 22,
   "metadata": {},
   "outputs": [
    {
     "name": "stdout",
     "output_type": "stream",
     "text": [
      "<class 'pandas.core.frame.DataFrame'>\n",
      "Int64Index: 120000 entries, 146722 to 11328\n",
      "Data columns (total 16 columns):\n",
      "RevolvingUtilizationOfUnsecuredLines        120000 non-null float64\n",
      "age                                         120000 non-null int64\n",
      "NumberOfTime30-59DaysPastDueNotWorse        120000 non-null int64\n",
      "DebtRatio                                   120000 non-null float64\n",
      "MonthlyIncome                               96284 non-null float64\n",
      "NumberOfOpenCreditLinesAndLoans             120000 non-null int64\n",
      "NumberOfTimes90DaysLate                     120000 non-null int64\n",
      "NumberRealEstateLoansOrLines                120000 non-null int64\n",
      "NumberOfTime60-89DaysPastDueNotWorse        120000 non-null int64\n",
      "NumberOfDependents                          116837 non-null float64\n",
      "NumberOfTime30-59DaysPastDueNotWorse-log    120000 non-null float64\n",
      "MonthlyIncome-log                           96284 non-null float64\n",
      "NumberOfOpenCreditLinesAndLoans-log         120000 non-null float64\n",
      "NumberOfTimes90DaysLate-log                 120000 non-null float64\n",
      "NumberRealEstateLoansOrLines-log            120000 non-null float64\n",
      "NumberOfTime60-89DaysPastDueNotWorse-log    120000 non-null float64\n",
      "dtypes: float64(10), int64(6)\n",
      "memory usage: 15.6 MB\n"
     ]
    }
   ],
   "source": [
    "#with log columns\n",
    "X_train, X_test, y_train, y_test, testDF = loadData(logTransform=True, \n",
    "                                                    impute=False, \n",
    "                                                    preprocessed=False)\n",
    "X_train.info()\n",
    "#There's still some rows with missing values, let us solve this by using an Imputer"
   ]
  },
  {
   "cell_type": "markdown",
   "metadata": {},
   "source": [
    "Due the class imbalance we observed earlier, \n",
    "lets check if the splitting results in the same class imbalance we see in the training set."
   ]
  },
  {
   "cell_type": "code",
   "execution_count": 23,
   "metadata": {},
   "outputs": [
    {
     "data": {
      "text/plain": [
       "(0.06684166666666666, 0.06683333333333333)"
      ]
     },
     "execution_count": 23,
     "metadata": {},
     "output_type": "execute_result"
    }
   ],
   "source": [
    "#sanity check\n",
    "np.sum(y_train)/len(y_train), np.sum(y_test)/len(y_test)"
   ]
  },
  {
   "cell_type": "markdown",
   "metadata": {},
   "source": [
    "Lets account for the missing data using the `Imputer` function by taking the median (median)"
   ]
  },
  {
   "cell_type": "code",
   "execution_count": 31,
   "metadata": {},
   "outputs": [
    {
     "data": {
      "text/plain": [
       "13.960728088766986"
      ]
     },
     "execution_count": 31,
     "metadata": {},
     "output_type": "execute_result"
    }
   ],
   "source": [
    "weights = (y_train == 0).sum() / (1.0 * (y_train == 1).sum())\n",
    "weights"
   ]
  },
  {
   "cell_type": "code",
   "execution_count": 32,
   "metadata": {
    "collapsed": true,
    "scrolled": true
   },
   "outputs": [],
   "source": [
    "# Standardised sklearn pipeline with XGB\n",
    "# Create a boolean mask for categorical columns\n",
    "# Dont really need cause none of the columns are objects but lets just keep it \n",
    "categorical_feature_mask = X_train.dtypes == object\n",
    "\n",
    "# Get list of categorical column names\n",
    "categorical_columns = X_train.columns[categorical_feature_mask].tolist()\n",
    "\n",
    "# Get list of non-categorical column names\n",
    "non_categorical_columns = X_train.columns[~categorical_feature_mask].tolist()\n",
    "\n",
    "# Apply numeric imputer (using median/mean) both gives almost the same value\n",
    "# aka fill the NaNs\n",
    "numeric_imputation_mapper = DataFrameMapper(\n",
    "   [([numeric_feature], Imputer(strategy=\"median\")) for numeric_feature in non_categorical_columns],\n",
    "   input_df=True,\n",
    "   df_out=True\n",
    ")\n",
    "\n",
    "categorical_imputation_mapper = DataFrameMapper(\n",
    "    [(category_feature, Categorical()) for category_feature in categorical_columns],\n",
    "    input_df=True,\n",
    "    df_out=True\n",
    ")\n",
    "\n",
    "# Combine the numeric and categorical transformations\n",
    "numeric_categorical_union = FeatureUnion([\n",
    "    (\"num_mapper\", numeric_imputation_mapper),\n",
    "    (\"cat_mapper\", categorical_imputation_mapper)\n",
    "])\n",
    "\n",
    "\n",
    "# Create full pipeline\n",
    "pipeline = Pipeline([\n",
    "   (\"featureunion\", numeric_imputation_mapper),\n",
    "   (\"clf\", xgb.XGBClassifier(max_depth=10, \n",
    "                         scale_pos_weight=weights, \n",
    "                             gamma=20 #gamma is set high for class imbalance\n",
    "                            )) #class imbalance\n",
    "])"
   ]
  },
  {
   "cell_type": "code",
   "execution_count": 33,
   "metadata": {},
   "outputs": [
    {
     "name": "stdout",
     "output_type": "stream",
     "text": [
      "3-fold AUC:  0.8535582293495284\n"
     ]
    }
   ],
   "source": [
    "# Print avg. AUC\n",
    "cross_val_scores_cpu = cross_val_score(pipeline, X_train, y_train, scoring=\"roc_auc\", cv=3)\n",
    "print(\"3-fold AUC: \", np.mean(cross_val_scores_cpu))"
   ]
  },
  {
   "cell_type": "code",
   "execution_count": 34,
   "metadata": {
    "collapsed": true
   },
   "outputs": [],
   "source": [
    "model = pipeline.fit(X_train, y_train)"
   ]
  },
  {
   "cell_type": "code",
   "execution_count": 35,
   "metadata": {},
   "outputs": [
    {
     "name": "stderr",
     "output_type": "stream",
     "text": [
      "/home/uesu/anaconda3/lib/python3.6/site-packages/sklearn/preprocessing/label.py:151: DeprecationWarning: The truth value of an empty array is ambiguous. Returning False, but in future this will result in an error. Use `array.size > 0` to check that an array is not empty.\n",
      "  if diff:\n"
     ]
    },
    {
     "data": {
      "text/plain": [
       "0.6090251374978501"
      ]
     },
     "execution_count": 35,
     "metadata": {},
     "output_type": "execute_result"
    }
   ],
   "source": [
    "#model = pipeline.fit(X_train, y_train)\n",
    "dev = model.predict(X_test)\n",
    "roc_auc_score(dev, y_test)"
   ]
  },
  {
   "cell_type": "code",
   "execution_count": 38,
   "metadata": {},
   "outputs": [
    {
     "name": "stderr",
     "output_type": "stream",
     "text": [
      "/home/uesu/anaconda3/lib/python3.6/site-packages/sklearn/preprocessing/label.py:151: DeprecationWarning: The truth value of an empty array is ambiguous. Returning False, but in future this will result in an error. Use `array.size > 0` to check that an array is not empty.\n",
      "  if diff:\n"
     ]
    }
   ],
   "source": [
    "preds = model.predict(testDF)\n",
    "Utils.submit(preds, \"firstTry_weights_gamma.csv\", \"firstTry weights gamma\")"
   ]
  },
  {
   "cell_type": "markdown",
   "metadata": {},
   "source": [
    "\n",
    "| Dataset | roc_auc | \n",
    "| --- | --- | \n",
    "| Training set | 0.853  |\n",
    "| Dev set | 0.609 |\n",
    "| Test set (public) |0.775060 | \n",
    "| Test set (private) | 0.769128 | \n",
    "\n",
    "### First try evaluation\n",
    "\n",
    "We are definitely overfitting the training set. \n",
    "\n",
    "There's large variance, 0.85 - 0.609 almost 0.25 difference in ROC"
   ]
  },
  {
   "cell_type": "markdown",
   "metadata": {},
   "source": [
    "## Tuning\n",
    "\n",
    "1. Randomised Search\n",
    "2. Grid Search"
   ]
  },
  {
   "cell_type": "code",
   "execution_count": 41,
   "metadata": {},
   "outputs": [
    {
     "name": "stdout",
     "output_type": "stream",
     "text": [
      "Fitting 3 folds for each of 399 candidates, totalling 1197 fits\n"
     ]
    },
    {
     "name": "stderr",
     "output_type": "stream",
     "text": [
      "[Parallel(n_jobs=-1)]: Done  10 tasks      | elapsed:    8.1s\n",
      "[Parallel(n_jobs=-1)]: Done 160 tasks      | elapsed:  2.0min\n",
      "[Parallel(n_jobs=-1)]: Done 410 tasks      | elapsed:  5.3min\n",
      "[Parallel(n_jobs=-1)]: Done 760 tasks      | elapsed: 10.0min\n",
      "[Parallel(n_jobs=-1)]: Done 1197 out of 1197 | elapsed: 15.7min finished\n"
     ]
    },
    {
     "name": "stdout",
     "output_type": "stream",
     "text": [
      "my best score: 0.8649865004930518\n",
      "Pipeline(memory=None,\n",
      "     steps=[('featureunion', DataFrameMapper(default=False, df_out=True,\n",
      "        features=[(['RevolvingUtilizationOfUnsecuredLines'], Imputer(axis=0, copy=True, missing_values='NaN', strategy='median', verbose=0)), (['age'], Imputer(axis=0, copy=True, missing_values='NaN', strategy='median', verbose=0)),...=0, reg_lambda=1, scale_pos_weight=13.960728088766986,\n",
      "       seed=None, silent=True, subsample=1))])\n"
     ]
    }
   ],
   "source": [
    "gbm_param_grid = {\n",
    "        'clf__learning_rate': np.arange(0.05, 1, 0.05),\n",
    "        'clf__max_depth': np.arange(3, 10, 1),\n",
    "        'clf__n_estimators': np.arange(50, 200, 50)#,\n",
    "        #'clf__gamma':[5,10,20]\n",
    "}\n",
    "\n",
    "grid_roc_auc = GridSearchCV(pipeline,\n",
    "    param_grid=gbm_param_grid,\n",
    "    scoring=\"roc_auc\",\n",
    "    cv=3,\n",
    "    verbose=1,\n",
    "    n_jobs=-1\n",
    ")\n",
    "\n",
    "# Fit the estimator\n",
    "grid_roc_auc.fit(X_train, y_train)\n",
    "\n",
    "# Compute metrics\n",
    "print(f'my best score: {grid_roc_auc.best_score_}')\n",
    "print(grid_roc_auc.best_estimator_)"
   ]
  },
  {
   "cell_type": "code",
   "execution_count": 42,
   "metadata": {},
   "outputs": [
    {
     "name": "stdout",
     "output_type": "stream",
     "text": [
      "AUC: 0.598183473983141\n"
     ]
    },
    {
     "name": "stderr",
     "output_type": "stream",
     "text": [
      "/home/uesu/anaconda3/lib/python3.6/site-packages/sklearn/preprocessing/label.py:151: DeprecationWarning: The truth value of an empty array is ambiguous. Returning False, but in future this will result in an error. Use `array.size > 0` to check that an array is not empty.\n",
      "  if diff:\n"
     ]
    }
   ],
   "source": [
    "preds = grid_roc_auc.predict(X_test)\n",
    "print(f'AUC: {roc_auc_score(preds, y_test)}')"
   ]
  },
  {
   "cell_type": "markdown",
   "metadata": {},
   "source": [
    "Interesting with the gamma turned on the AUC is bad"
   ]
  },
  {
   "cell_type": "code",
   "execution_count": 43,
   "metadata": {},
   "outputs": [
    {
     "name": "stderr",
     "output_type": "stream",
     "text": [
      "/home/uesu/anaconda3/lib/python3.6/site-packages/sklearn/preprocessing/label.py:151: DeprecationWarning: The truth value of an empty array is ambiguous. Returning False, but in future this will result in an error. Use `array.size > 0` to check that an array is not empty.\n",
      "  if diff:\n"
     ]
    }
   ],
   "source": [
    "preds = grid_roc_auc.predict(testDF)"
   ]
  },
  {
   "cell_type": "code",
   "execution_count": 46,
   "metadata": {
    "collapsed": true
   },
   "outputs": [],
   "source": [
    "#predsSubmit = model.predict(testDF)\n",
    "Utils.submit(preds, \"xgb_straitified_processing_weights_gamma_gridsearch2.csv\", \"xgb stratified preprocessing weights gamma grid2\")"
   ]
  },
  {
   "cell_type": "code",
   "execution_count": 44,
   "metadata": {},
   "outputs": [
    {
     "data": {
      "text/plain": [
       "XGBClassifier(base_score=0.5, booster='gbtree', colsample_bylevel=1,\n",
       "       colsample_bytree=1, gamma=20, learning_rate=0.1, max_delta_step=0,\n",
       "       max_depth=3, min_child_weight=1, missing=None, n_estimators=150,\n",
       "       n_jobs=1, nthread=None, objective='binary:logistic', random_state=0,\n",
       "       reg_alpha=0, reg_lambda=1, scale_pos_weight=13.960728088766986,\n",
       "       seed=None, silent=True, subsample=1)"
      ]
     },
     "execution_count": 44,
     "metadata": {},
     "output_type": "execute_result"
    }
   ],
   "source": [
    "grid_roc_auc.best_estimator_.named_steps['clf']"
   ]
  },
  {
   "cell_type": "markdown",
   "metadata": {},
   "source": [
    "```python\n",
    "XGBClassifier(base_score=0.5, booster='gbtree', colsample_bylevel=1,\n",
    "       colsample_bytree=1, gamma=20, learning_rate=0.1, max_delta_step=0,\n",
    "       max_depth=3, min_child_weight=1, missing=None, n_estimators=150,\n",
    "       n_jobs=1, nthread=None, objective='binary:logistic', random_state=0,\n",
    "       reg_alpha=0, reg_lambda=1, scale_pos_weight=13.960728088766986,\n",
    "       seed=None, silent=True, subsample=1)\n",
    "```     \n",
    "With the grid search\n",
    "\n",
    "| public | private |  \n",
    "| --- | --- | \n",
    "| 0.790252 | 0.783193 | \n",
    "\n",
    "\n",
    "\n",
    "| Dataset | XGB (no tuning) | XGB (with some tuning)|  Random Forest (no tuning) |\n",
    "| --- | --- |  --- | --- |\n",
    "| Training set | 0.853  | | |\n",
    "| Dev set | 0.609 | | |\n",
    "| Test set (public) |0.775060 | 0.790252 | |\n",
    "| Test set (private) | 0.769128 | 0.783193 | |\n"
   ]
  },
  {
   "cell_type": "markdown",
   "metadata": {},
   "source": [
    "# Random Forest"
   ]
  },
  {
   "cell_type": "code",
   "execution_count": 53,
   "metadata": {},
   "outputs": [
    {
     "data": {
      "text/plain": [
       "{0: 0.93316, 1: 0.06684}"
      ]
     },
     "execution_count": 53,
     "metadata": {},
     "output_type": "execute_result"
    }
   ],
   "source": [
    "X_train, X_test, y_train, y_test, testDF = loadData(logTransform=True, \n",
    "                                                    impute=False, \n",
    "                                                    preprocessed=False)\n",
    "\n",
    "#Recalculate weights for random forest the input takes a dictionary in this case\n",
    "weights = np.array(classSep['value']/np.sum(classSep['value']))\n",
    "classweight = {1:weights[0], 0:weights[1]}\n",
    "classweight"
   ]
  },
  {
   "cell_type": "code",
   "execution_count": 54,
   "metadata": {},
   "outputs": [
    {
     "name": "stdout",
     "output_type": "stream",
     "text": [
      "3-fold AUC:  0.8445269407753803\n",
      "test AUC:  0.6090251374978501\n"
     ]
    },
    {
     "name": "stderr",
     "output_type": "stream",
     "text": [
      "/home/uesu/anaconda3/lib/python3.6/site-packages/sklearn/preprocessing/label.py:151: DeprecationWarning: The truth value of an empty array is ambiguous. Returning False, but in future this will result in an error. Use `array.size > 0` to check that an array is not empty.\n",
      "  if diff:\n"
     ]
    }
   ],
   "source": [
    "from sklearn.ensemble import RandomForestClassifier\n",
    "\n",
    "rf_pipeline = Pipeline([\n",
    "   (\"featureunion\", numeric_imputation_mapper),\n",
    "   (\"rf\",RandomForestClassifier(random_state=123, n_jobs=-1, class_weight=classweight, n_estimators=400)) #tried 500 gives the same\n",
    "])\n",
    "\n",
    "# Perform cross-validation\n",
    "cross_val_scores = cross_val_score(rf_pipeline, X_train, y_train, scoring=\"roc_auc\", cv=3)\n",
    "model = pipeline.fit(X_train, y_train)\n",
    "    \n",
    "dev = model.predict(X_test)\n",
    "testScore = roc_auc_score(dev, y_test)\n",
    "    \n",
    "print(\"3-fold AUC: \", np.mean(cross_val_scores))\n",
    "print(\"test AUC: \", testScore)"
   ]
  },
  {
   "cell_type": "code",
   "execution_count": 56,
   "metadata": {},
   "outputs": [
    {
     "name": "stderr",
     "output_type": "stream",
     "text": [
      "/home/uesu/anaconda3/lib/python3.6/site-packages/sklearn/preprocessing/label.py:151: DeprecationWarning: The truth value of an empty array is ambiguous. Returning False, but in future this will result in an error. Use `array.size > 0` to check that an array is not empty.\n",
      "  if diff:\n"
     ]
    }
   ],
   "source": [
    "rfPreds = model.predict(testDF)\n",
    "#nestimators 500 or 400 gets the same score\n",
    "Utils.submit(rfPreds, \"rf_400.csv\", \"rf 400\")"
   ]
  },
  {
   "cell_type": "markdown",
   "metadata": {},
   "source": [
    "RF is doing exactly the same with XGB without tuning\n",
    "\n",
    "| Dataset | XGB (no tuning) | Random Forest (no tuning) |\n",
    "| --- | --- |  --- |\n",
    "| Training set | 0.853  | 0.44|\n",
    "| Dev set | 0.609 | 0.609 |\n",
    "| Test set (public) |0.775060 | 0.775060 |\n",
    "| Test set (private) | 0.769128 | 0.769128 |\n",
    "\n",
    "\n",
    "_VERY SIMILAR_\n",
    "\n",
    "This is probably due to the fact that both are tree based ensembles, lets include others to add abit more diversity"
   ]
  },
  {
   "cell_type": "markdown",
   "metadata": {},
   "source": [
    "\n",
    "## Stacking / ensembling\n",
    "\n",
    "tried stacking with a metaclassifier (linear regression) doesnt work its, worse. \n",
    "tried ensembling (vote) better but the score is still worse than individual predictor. "
   ]
  },
  {
   "cell_type": "code",
   "execution_count": null,
   "metadata": {
    "collapsed": true
   },
   "outputs": [],
   "source": [
    "from sklearn.linear_model import LogisticRegression\n",
    "from sklearn.neighbors import KNeighborsClassifier\n",
    "from sklearn.naive_bayes import GaussianNB \n",
    "from sklearn.ensemble import RandomForestClassifier\n",
    "from sklearn.model_selection import GridSearchCV\n",
    "from mlxtend.classifier import StackingClassifier\n",
    "from mlxtend.classifier import EnsembleVoteClassifier\n",
    "\n",
    "X_train, X_test, y_train, y_test, testDF = loadData(\n",
    "    logTransform=True, \n",
    "    impute=False, \n",
    "    preprocessed=False, \n",
    "    continuous=False\n",
    ")\n",
    "\n",
    "from sklearn.pipeline import make_pipeline\n",
    "\n",
    "pipe1 = make_pipeline(numeric_imputation_mapper,\n",
    "                      XGBClassifier(base_score=0.5, booster='gbtree', colsample_bylevel=1,\n",
    "       colsample_bytree=1, gamma=20, learning_rate=0.1, max_delta_step=0,\n",
    "       max_depth=3, min_child_weight=1, missing=None, n_estimators=150,\n",
    "       n_jobs=1, nthread=None, objective='binary:logistic', random_state=0,\n",
    "       reg_alpha=0, reg_lambda=1, scale_pos_weight=13.960728088766986,\n",
    "       seed=None, silent=True, subsample=1))\n",
    "\n",
    "pipe2 = make_pipeline(numeric_imputation_mapper,\n",
    "                      RandomForestClassifier(max_depth=None, random_state=123, class_weight=classweight, n_estimators=400)\n",
    "                      )\n",
    "\n",
    "\n",
    "# Initializing models\n",
    "eclf = EnsembleVoteClassifier(clfs=[pipe1, pipe2],\n",
    "                              weights=[1, 1], voting='soft')\n",
    "eclf.fit(X_train, y_train)"
   ]
  },
  {
   "cell_type": "code",
   "execution_count": null,
   "metadata": {
    "collapsed": true
   },
   "outputs": [],
   "source": [
    "devstack = eclf.predict(X_test)\n",
    "testScore = roc_auc_score(devstack, y_test)\n",
    "print(f'test AUC: {testScore}')"
   ]
  },
  {
   "cell_type": "code",
   "execution_count": null,
   "metadata": {
    "collapsed": true
   },
   "outputs": [],
   "source": [
    "votePreds = eclf.predict(testDF)\n",
    "submit(votePreds, \"xgb_rf_voting2.csv\", \"xgb rf voting2\")"
   ]
  },
  {
   "cell_type": "markdown",
   "metadata": {},
   "source": [
    "Adding RF and XGB brought the score down: private, public: \n",
    "        0.721574, 0.722799\n"
   ]
  },
  {
   "cell_type": "markdown",
   "metadata": {},
   "source": [
    "Looked at the discussion forums for some inspiration and came across this guy which wrote 500 lines to create 80 columns, lets use that.\n",
    "\n",
    "https://www.kaggle.com/c/GiveMeSomeCredit/discussion/31514"
   ]
  },
  {
   "cell_type": "code",
   "execution_count": 47,
   "metadata": {},
   "outputs": [
    {
     "name": "stdout",
     "output_type": "stream",
     "text": [
      "<class 'pandas.core.frame.DataFrame'>\n",
      "Int64Index: 120000 entries, 146722 to 11328\n",
      "Data columns (total 80 columns):\n",
      "UnknownNumberOfDependents                       120000 non-null int64\n",
      "UnknownMonthlyIncome                            120000 non-null int64\n",
      "NoDependents                                    120000 non-null int64\n",
      "NoIncome                                        120000 non-null int64\n",
      "ZeroDebtRatio                                   120000 non-null int64\n",
      "UnknownIncomeDebtRatio                          120000 non-null int64\n",
      "WeirdRevolvingUtilization                       120000 non-null float64\n",
      "ZeroRevolvingUtilization                        120000 non-null int64\n",
      "Log.Debt                                        120000 non-null float64\n",
      "RevolvingLines                                  120000 non-null int64\n",
      "HasRevolvingLines                               120000 non-null int64\n",
      "HasRealEstateLoans                              120000 non-null int64\n",
      "HasMultipleRealEstateLoans                      120000 non-null int64\n",
      "EligibleSS                                      120000 non-null int64\n",
      "DTIOver33                                       120000 non-null int64\n",
      "DTIOver43                                       120000 non-null int64\n",
      "DisposableIncome                                120000 non-null float64\n",
      "RevolvingToRealEstate                           120000 non-null float64\n",
      "NumberOfTime30.59DaysPastDueNotWorseLarge       120000 non-null int64\n",
      "NumberOfTime30.59DaysPastDueNotWorse96          120000 non-null int64\n",
      "NumberOfTime30.59DaysPastDueNotWorse98          120000 non-null int64\n",
      "Never30.59DaysPastDueNotWorse                   120000 non-null int64\n",
      "NumberOfTime60.89DaysPastDueNotWorseLarge       120000 non-null int64\n",
      "NumberOfTime60.89DaysPastDueNotWorse96          120000 non-null int64\n",
      "NumberOfTime60.89DaysPastDueNotWorse98          120000 non-null int64\n",
      "Never60.89DaysPastDueNotWorse                   120000 non-null int64\n",
      "NumberOfTimes90DaysLateLarge                    120000 non-null int64\n",
      "NumberOfTimes90DaysLate96                       120000 non-null int64\n",
      "NumberOfTimes90DaysLate98                       120000 non-null int64\n",
      "Never90DaysLate                                 120000 non-null int64\n",
      "IncomeDivBy10                                   120000 non-null int64\n",
      "IncomeDivBy100                                  120000 non-null int64\n",
      "IncomeDivBy1000                                 120000 non-null int64\n",
      "IncomeDivBy5000                                 120000 non-null int64\n",
      "Weird0999Utilization                            120000 non-null int64\n",
      "FullUtilization                                 120000 non-null int64\n",
      "ExcessUtilization                               120000 non-null int64\n",
      "NumberOfTime30.89DaysPastDueNotWorse            120000 non-null int64\n",
      "Never30.89DaysPastDueNotWorse                   120000 non-null int64\n",
      "NeverPastDue                                    120000 non-null int64\n",
      "Log.RevolvingUtilizationTimesLines              120000 non-null float64\n",
      "Log.RevolvingUtilizationOfUnsecuredLines        120000 non-null float64\n",
      "DelinquenciesPerLine                            120000 non-null float64\n",
      "MajorDelinquenciesPerLine                       120000 non-null float64\n",
      "MinorDelinquenciesPerLine                       120000 non-null float64\n",
      "DelinquenciesPerRevolvingLine                   120000 non-null float64\n",
      "MajorDelinquenciesPerRevolvingLine              120000 non-null float64\n",
      "MinorDelinquenciesPerRevolvingLine              120000 non-null float64\n",
      "Log.DebtPerLine                                 120000 non-null float64\n",
      "Log.DebtPerRealEstateLine                       120000 non-null float64\n",
      "Log.DebtPerPerson                               120000 non-null float64\n",
      "RevolvingLinesPerPerson                         120000 non-null float64\n",
      "RealEstateLoansPerPerson                        120000 non-null float64\n",
      "YearsOfAgePerDependent                          120000 non-null float64\n",
      "Log.MonthlyIncome                               120000 non-null float64\n",
      "Log.IncomePerPerson                             120000 non-null float64\n",
      "Log.IncomeAge                                   120000 non-null float64\n",
      "Log.NumberOfTimesPastDue                        120000 non-null float64\n",
      "Log.NumberOfTimes90DaysLate                     120000 non-null float64\n",
      "Log.NumberOfTime30.59DaysPastDueNotWorse        120000 non-null float64\n",
      "Log.NumberOfTime60.89DaysPastDueNotWorse        120000 non-null float64\n",
      "Log.Ratio90to30.59DaysLate                      120000 non-null float64\n",
      "Log.Ratio90to60.89DaysLate                      120000 non-null float64\n",
      "AnyOpenCreditLinesOrLoans                       120000 non-null int64\n",
      "Log.NumberOfOpenCreditLinesAndLoans             120000 non-null float64\n",
      "Log.NumberOfOpenCreditLinesAndLoansPerPerson    120000 non-null float64\n",
      "Has.Dependents                                  120000 non-null int64\n",
      "Log.HouseholdSize                               120000 non-null float64\n",
      "Log.DebtRatio                                   120000 non-null float64\n",
      "Log.DebtPerDelinquency                          120000 non-null float64\n",
      "Log.DebtPer90DaysLate                           120000 non-null float64\n",
      "Log.UnknownIncomeDebtRatio                      120000 non-null float64\n",
      "Log.UnknownIncomeDebtRatioPerPerson             120000 non-null float64\n",
      "Log.UnknownIncomeDebtRatioPerLine               120000 non-null float64\n",
      "Log.UnknownIncomeDebtRatioPerRealEstateLine     120000 non-null float64\n",
      "Log.UnknownIncomeDebtRatioPerDelinquency        120000 non-null float64\n",
      "Log.UnknownIncomeDebtRatioPer90DaysLate         120000 non-null float64\n",
      "Log.NumberRealEstateLoansOrLines                120000 non-null float64\n",
      "LowAge                                          120000 non-null int64\n",
      "Log.age                                         120000 non-null float64\n",
      "dtypes: float64(41), int64(39)\n",
      "memory usage: 74.2 MB\n"
     ]
    }
   ],
   "source": [
    "X_train, X_test, y_train, y_test, testDF = loadData(logTransform=False, \n",
    "                                                    impute=False, \n",
    "                                                    preprocessed=True)\n",
    "X_train.info()"
   ]
  },
  {
   "cell_type": "code",
   "execution_count": 51,
   "metadata": {},
   "outputs": [
    {
     "name": "stderr",
     "output_type": "stream",
     "text": [
      "/home/uesu/anaconda3/lib/python3.6/site-packages/sklearn/preprocessing/label.py:151: DeprecationWarning: The truth value of an empty array is ambiguous. Returning False, but in future this will result in an error. Use `array.size > 0` to check that an array is not empty.\n",
      "  if diff:\n"
     ]
    }
   ],
   "source": [
    "params = {\n",
    "'min_child_weight': 10.0,\n",
    "'objective': 'binary:logistic',\n",
    "'max_depth': 5,\n",
    "'eval_metric': 'auc',\n",
    "'max_delta_step': 1.8,\n",
    "'colsample_bytree': 0.4,\n",
    "'subsample': 0.8,\n",
    "'eta': 0.025,\n",
    "'gamma': 0.65,\n",
    "'num_boost_round' : 391\n",
    "}\n",
    "tuned = xgb.XGBClassifier( **params, scale_pos_weight=weights)\n",
    "tuned.fit(X_train, y_train)\n",
    "preds = tuned.predict(testDF)\n",
    "Utils.submit(preds, \"discusssion2.csv\", \"discussionSuperParameters2\")"
   ]
  },
  {
   "cell_type": "markdown",
   "metadata": {},
   "source": [
    "BS\n",
    "\n",
    "Without weights\n",
    "\n",
    "| Public | Private | \n",
    "| --- | --- | \n",
    "| 0.599727 | 0.593717 | \n",
    "\n",
    "With weights\n",
    "\n",
    "| Public | Private | \n",
    "| --- | --- | \n",
    "| 0.791425 | 0.782578 | \n",
    "\n",
    "Which is comparable with my own tuning"
   ]
  },
  {
   "cell_type": "markdown",
   "metadata": {},
   "source": [
    "## Single Layer perceptron"
   ]
  },
  {
   "cell_type": "code",
   "execution_count": 41,
   "metadata": {},
   "outputs": [
    {
     "name": "stdout",
     "output_type": "stream",
     "text": [
      "<class 'pandas.core.frame.DataFrame'>\n",
      "Int64Index: 120000 entries, 146722 to 11328\n",
      "Data columns (total 16 columns):\n",
      "RevolvingUtilizationOfUnsecuredLines        120000 non-null float64\n",
      "age                                         120000 non-null int64\n",
      "NumberOfTime30-59DaysPastDueNotWorse        120000 non-null int64\n",
      "DebtRatio                                   120000 non-null float64\n",
      "MonthlyIncome                               120000 non-null float64\n",
      "NumberOfOpenCreditLinesAndLoans             120000 non-null int64\n",
      "NumberOfTimes90DaysLate                     120000 non-null int64\n",
      "NumberRealEstateLoansOrLines                120000 non-null int64\n",
      "NumberOfTime60-89DaysPastDueNotWorse        120000 non-null int64\n",
      "NumberOfDependents                          120000 non-null float64\n",
      "NumberOfTime30-59DaysPastDueNotWorse-log    120000 non-null float64\n",
      "MonthlyIncome-log                           120000 non-null float64\n",
      "NumberOfOpenCreditLinesAndLoans-log         120000 non-null float64\n",
      "NumberOfTimes90DaysLate-log                 120000 non-null float64\n",
      "NumberRealEstateLoansOrLines-log            120000 non-null float64\n",
      "NumberOfTime60-89DaysPastDueNotWorse-log    120000 non-null float64\n",
      "dtypes: float64(10), int64(6)\n",
      "memory usage: 15.6 MB\n"
     ]
    }
   ],
   "source": [
    "X_train, X_test, y_train, y_test, testDF = Utils.loadData(logTransform=True, \n",
    "                                                    impute=True, \n",
    "                                                    preprocessed=False)\n",
    "X_train.info()\n",
    "import keras\n",
    "from keras.models import Sequential\n",
    "from keras.models import Model\n",
    "from keras.layers import Dense, Dropout, Input\n",
    "from keras import regularizers\n",
    "from keras.wrappers.scikit_learn import KerasClassifier\n",
    "from keras.regularizers import l2\n",
    "from keras.layers import BatchNormalization\n",
    "#import tensorflow as tf\n",
    "#sess = tf.Session(config=tf.ConfigProto(log_device_placement=True))\n"
   ]
  },
  {
   "cell_type": "code",
   "execution_count": 42,
   "metadata": {},
   "outputs": [
    {
     "data": {
      "text/plain": [
       "(array([ 4.98037042e-01,  5.60000000e+01,  1.00000000e+00,  6.05718590e-02,\n",
       "         5.31500000e+03,  9.00000000e+00,  0.00000000e+00,  0.00000000e+00,\n",
       "         0.00000000e+00,  1.00000000e+00,  4.34294477e-09,  3.72550327e+00,\n",
       "         9.54242510e-01, -8.00000000e+00, -8.00000000e+00, -8.00000000e+00]),\n",
       " (120000, 16))"
      ]
     },
     "execution_count": 42,
     "metadata": {},
     "output_type": "execute_result"
    }
   ],
   "source": [
    "# fix random seed for reproducibility\n",
    "np.random.seed(7)\n",
    "\n",
    "# split into input (X) and output (Y) variables\n",
    "X_train_matrix = X_train.as_matrix(columns=[X_train.columns[:]])\n",
    "X_train_matrix[0,:], X_train_matrix.shape"
   ]
  },
  {
   "cell_type": "code",
   "execution_count": 48,
   "metadata": {
    "collapsed": true
   },
   "outputs": [],
   "source": [
    "X_test_matrix = X_test.as_matrix(columns=[X_test.columns[:]])"
   ]
  },
  {
   "cell_type": "code",
   "execution_count": 43,
   "metadata": {
    "scrolled": true
   },
   "outputs": [
    {
     "data": {
      "text/plain": [
       "{0: 0.5358147509800945, 1: 7.480364044383493}"
      ]
     },
     "execution_count": 43,
     "metadata": {},
     "output_type": "execute_result"
    }
   ],
   "source": [
    "from sklearn.utils import class_weight\n",
    "class_weight = class_weight.compute_class_weight('balanced', np.unique(y_train), y_train)\n",
    "class_weight\n",
    "class_weight_dict = dict(enumerate(class_weight))\n",
    "class_weight_dict"
   ]
  },
  {
   "cell_type": "code",
   "execution_count": 44,
   "metadata": {},
   "outputs": [
    {
     "name": "stderr",
     "output_type": "stream",
     "text": [
      "/home/uesu/anaconda3/lib/python3.6/site-packages/sklearn/base.py:115: DeprecationWarning: Estimator KerasClassifier modifies parameters in __init__. This behavior is deprecated as of 0.18 and support for this behavior will be removed in 0.20.\n",
      "  % type(estimator).__name__, DeprecationWarning)\n",
      "/home/uesu/anaconda3/lib/python3.6/site-packages/sklearn/base.py:115: DeprecationWarning: Estimator KerasClassifier modifies parameters in __init__. This behavior is deprecated as of 0.18 and support for this behavior will be removed in 0.20.\n",
      "  % type(estimator).__name__, DeprecationWarning)\n",
      "/home/uesu/anaconda3/lib/python3.6/site-packages/sklearn/base.py:115: DeprecationWarning: Estimator KerasClassifier modifies parameters in __init__. This behavior is deprecated as of 0.18 and support for this behavior will be removed in 0.20.\n",
      "  % type(estimator).__name__, DeprecationWarning)\n",
      "/home/uesu/anaconda3/lib/python3.6/site-packages/sklearn/base.py:115: DeprecationWarning: Estimator KerasClassifier modifies parameters in __init__. This behavior is deprecated as of 0.18 and support for this behavior will be removed in 0.20.\n",
      "  % type(estimator).__name__, DeprecationWarning)\n",
      "/home/uesu/anaconda3/lib/python3.6/site-packages/sklearn/base.py:115: DeprecationWarning: Estimator KerasClassifier modifies parameters in __init__. This behavior is deprecated as of 0.18 and support for this behavior will be removed in 0.20.\n",
      "  % type(estimator).__name__, DeprecationWarning)\n"
     ]
    }
   ],
   "source": [
    "from sklearn.model_selection import StratifiedKFold\n",
    "def create_baseline():\n",
    "    # create model\n",
    "    model = Sequential()\n",
    "    model.add(Dense(60, input_dim=16, kernel_initializer='normal', activation='relu'))\n",
    "    model.add(Dense(1, kernel_initializer='normal', activation='sigmoid'))\n",
    "    # Compile model\n",
    "    model.compile(loss='binary_crossentropy', optimizer='adam', metrics=['accuracy'])\n",
    "    return model\n",
    "\n",
    "estimator = KerasClassifier(build_fn=create_baseline, epochs=100, batch_size=2000, verbose=0, class_weight=class_weight_dict)\n",
    "kfold = StratifiedKFold(n_splits=5, shuffle=True, random_state=123)\n",
    "results = cross_val_score(estimator, X_train_matrix, y_train.values, cv=kfold, )"
   ]
  },
  {
   "cell_type": "code",
   "execution_count": 47,
   "metadata": {
    "collapsed": true
   },
   "outputs": [],
   "source": [
    "#print(\"Accuracy Results: %.2f%% (%.2f%%)\" % (results.mean()*100, results.std()*100))"
   ]
  },
  {
   "cell_type": "markdown",
   "metadata": {},
   "source": [
    "Accuracy is a bad metric cause of the class imbalance, if i miss the delinquency class I'll still get very high accuracy. \n",
    "\n",
    "However KERAS doesnt come naturally with its own `ROC_AUC` scoring.\n",
    "So I'm going to hack this by using sklearn's randomseSearchCV"
   ]
  },
  {
   "cell_type": "code",
   "execution_count": 46,
   "metadata": {},
   "outputs": [
    {
     "name": "stdout",
     "output_type": "stream",
     "text": [
      "Fitting 3 folds for each of 1 candidates, totalling 3 fits\n"
     ]
    },
    {
     "name": "stderr",
     "output_type": "stream",
     "text": [
      "/home/uesu/anaconda3/lib/python3.6/site-packages/sklearn/base.py:115: DeprecationWarning: Estimator KerasClassifier modifies parameters in __init__. This behavior is deprecated as of 0.18 and support for this behavior will be removed in 0.20.\n",
      "  % type(estimator).__name__, DeprecationWarning)\n",
      "/home/uesu/anaconda3/lib/python3.6/site-packages/sklearn/base.py:115: DeprecationWarning: Estimator KerasClassifier modifies parameters in __init__. This behavior is deprecated as of 0.18 and support for this behavior will be removed in 0.20.\n",
      "  % type(estimator).__name__, DeprecationWarning)\n",
      "/home/uesu/anaconda3/lib/python3.6/site-packages/sklearn/base.py:115: DeprecationWarning: Estimator KerasClassifier modifies parameters in __init__. This behavior is deprecated as of 0.18 and support for this behavior will be removed in 0.20.\n",
      "  % type(estimator).__name__, DeprecationWarning)\n",
      "/home/uesu/anaconda3/lib/python3.6/site-packages/sklearn/base.py:115: DeprecationWarning: Estimator KerasClassifier modifies parameters in __init__. This behavior is deprecated as of 0.18 and support for this behavior will be removed in 0.20.\n",
      "  % type(estimator).__name__, DeprecationWarning)\n",
      "[Parallel(n_jobs=1)]: Done   3 out of   3 | elapsed:  2.1min finished\n",
      "/home/uesu/anaconda3/lib/python3.6/site-packages/sklearn/base.py:115: DeprecationWarning: Estimator KerasClassifier modifies parameters in __init__. This behavior is deprecated as of 0.18 and support for this behavior will be removed in 0.20.\n",
      "  % type(estimator).__name__, DeprecationWarning)\n"
     ]
    },
    {
     "name": "stdout",
     "output_type": "stream",
     "text": [
      "my best score: 0.8148518186067275\n",
      "<keras.wrappers.scikit_learn.KerasClassifier object at 0x7fd2e349d860>\n"
     ]
    }
   ],
   "source": [
    "param_grid = {}\n",
    "random_search = RandomizedSearchCV(estimator, \n",
    "    param_distributions=param_grid, verbose=1, n_iter=1, scoring=\"roc_auc\")\n",
    "random_search.fit(X_train_matrix, y_train)\n",
    "print(f'my best score: {random_search.best_score_}')\n",
    "print(random_search.best_estimator_)"
   ]
  },
  {
   "cell_type": "markdown",
   "metadata": {},
   "source": [
    "dev set AUC is 0.81"
   ]
  },
  {
   "cell_type": "code",
   "execution_count": 53,
   "metadata": {},
   "outputs": [
    {
     "name": "stdout",
     "output_type": "stream",
     "text": [
      "test AUC:  0.6018857975090398\n"
     ]
    }
   ],
   "source": [
    "#estimator.fit(X_train_matrix, y_train.values)\n",
    "preds = estimator.predict(X_test_matrix)\n",
    "testScore = roc_auc_score(preds, y_test)\n",
    "print(\"test AUC: \", testScore)"
   ]
  },
  {
   "cell_type": "code",
   "execution_count": 62,
   "metadata": {
    "collapsed": true
   },
   "outputs": [],
   "source": [
    "testDF_matrix = testDF.as_matrix(columns=[X_test.columns[:]])\n",
    "preds = estimator.predict(testDF_matrix)\n",
    "Utils.submit(preds.flatten(), \"singleLayer.csv\", \"single Layer with weights\")"
   ]
  },
  {
   "cell_type": "markdown",
   "metadata": {},
   "source": [
    "Severely overfitting, time to do some feature engineering and ensembling\n",
    "\n",
    "# Multilayer perceptron"
   ]
  },
  {
   "cell_type": "code",
   "execution_count": 63,
   "metadata": {
    "collapsed": true
   },
   "outputs": [],
   "source": [
    "def build_fn(nr_of_layers = 2,\n",
    "             first_layer_size = 10,\n",
    "             layers_slope_coeff = 0.8,\n",
    "             dropout = 0.5,\n",
    "             activation = \"relu\",\n",
    "             weight_l2 = 0.01,\n",
    "             act_l2 = 0.01,\n",
    "             input_dim = 16):\n",
    "\n",
    "    result_model = Sequential()\n",
    "    result_model.add(Dense(first_layer_size,\n",
    "                           input_dim = input_dim,\n",
    "                           activation=activation,\n",
    "                           W_regularizer= l2(weight_l2),\n",
    "                           activity_regularizer=l2(act_l2)\n",
    "                           ))\n",
    "\n",
    "    current_layer_size = int(first_layer_size * layers_slope_coeff) + 1\n",
    "\n",
    "    for index_of_layer in range(nr_of_layers - 1):\n",
    "\n",
    "        result_model.add(BatchNormalization())\n",
    "        result_model.add(Dropout(dropout))\n",
    "        result_model.add(Dense(current_layer_size,\n",
    "                               W_regularizer= l2(weight_l2),\n",
    "                               activation=activation,\n",
    "                               activity_regularizer=l2(act_l2)\n",
    "                               ))\n",
    "\n",
    "        current_layer_size = int(current_layer_size * layers_slope_coeff) + 1\n",
    "\n",
    "    result_model.add(Dense(1,\n",
    "                           activation = \"sigmoid\",\n",
    "                           W_regularizer = l2(weight_l2)))\n",
    "\n",
    "    result_model.compile(optimizer=\"adam\", metrics = [\"accuracy\"], loss = \"binary_crossentropy\")\n",
    "\n",
    "    return result_model\n",
    "\n",
    "NeuralNet = KerasClassifier(build_fn, )"
   ]
  },
  {
   "cell_type": "code",
   "execution_count": 64,
   "metadata": {},
   "outputs": [
    {
     "data": {
      "text/plain": [
       "{0: 0.5358147509800945, 1: 7.480364044383493}"
      ]
     },
     "execution_count": 64,
     "metadata": {},
     "output_type": "execute_result"
    }
   ],
   "source": [
    "class_weight_dict"
   ]
  },
  {
   "cell_type": "code",
   "execution_count": null,
   "metadata": {},
   "outputs": [
    {
     "name": "stderr",
     "output_type": "stream",
     "text": [
      "/home/uesu/anaconda3/lib/python3.6/site-packages/ipykernel_launcher.py:15: UserWarning: Update your `Dense` call to the Keras 2 API: `Dense(10, input_dim=16, activation=\"relu\", activity_regularizer=<keras.reg..., kernel_regularizer=<keras.reg...)`\n",
      "  from ipykernel import kernelapp as app\n",
      "/home/uesu/anaconda3/lib/python3.6/site-packages/ipykernel_launcher.py:27: UserWarning: Update your `Dense` call to the Keras 2 API: `Dense(7, activation=\"relu\", activity_regularizer=<keras.reg..., kernel_regularizer=<keras.reg...)`\n",
      "/home/uesu/anaconda3/lib/python3.6/site-packages/ipykernel_launcher.py:27: UserWarning: Update your `Dense` call to the Keras 2 API: `Dense(5, activation=\"relu\", activity_regularizer=<keras.reg..., kernel_regularizer=<keras.reg...)`\n",
      "/home/uesu/anaconda3/lib/python3.6/site-packages/ipykernel_launcher.py:34: UserWarning: Update your `Dense` call to the Keras 2 API: `Dense(1, activation=\"sigmoid\", kernel_regularizer=<keras.reg...)`\n"
     ]
    },
    {
     "name": "stdout",
     "output_type": "stream",
     "text": [
      "Epoch 1/10\n"
     ]
    }
   ],
   "source": [
    "#copied from https://stackoverflow.com/questions/37523882/keras-wrappers-for-scikit-learn-auc-scorer-is-not-working\n",
    "param_grid = {\n",
    "    \"nr_of_layers\" : [2, 3, 4, 5],\n",
    "    \"first_layer_size\" : [5, 10, 15],\n",
    "    \"layers_slope_coeff\" : [0.4, 0.6, 0.8],\n",
    "    \"dropout\" : [0.3, 0.5, 0.8],\n",
    "    \"weight_l2\" : [0.01, 0.001, 0.0001],\n",
    "    \"batch_size\" : [2000],\n",
    "    \"epochs\" : [10]\n",
    "}\n",
    "with tf.device('/gpu:0'):\n",
    "    random_search = RandomizedSearchCV(NeuralNet, \n",
    "        param_distributions=param_grid, verbose=0, n_iter=10, scoring=\"roc_auc\", )\n",
    "    random_search.fit(X_train_matrix, y_train.values,class_weight=class_weight_dict)"
   ]
  },
  {
   "cell_type": "code",
   "execution_count": 38,
   "metadata": {},
   "outputs": [
    {
     "name": "stdout",
     "output_type": "stream",
     "text": [
      "my best score: 0.49976794983787887\n"
     ]
    }
   ],
   "source": [
    "print(f'my best score: {random_search.best_score_}')\n",
    "#print(random_search.best_estimator_)"
   ]
  },
  {
   "cell_type": "code",
   "execution_count": null,
   "metadata": {
    "collapsed": true,
    "scrolled": true
   },
   "outputs": [],
   "source": [
    "from keras.callbacks import EarlyStopping\n",
    "from sklearn.cross_validation import StratifiedKFold\n",
    "early_stopping = EarlyStopping(monitor='val_loss', min_delta=0, patience=3, verbose=0, mode='auto')\n",
    "\n",
    "#def create_model():\n",
    "    # create model\n",
    "model = Sequential()\n",
    "model.add(Dense(128, input_shape=(16,), activation='relu'))\n",
    "model.add(Dropout(0.5))\n",
    "#model.add(Dense(256, activation='relu', activity_regularizer=regularizers.l1(10e-5)))\n",
    "model.add(Dense(256, activation='relu'))\n",
    "model.add(Dropout(0.25))\n",
    "#model.add(Dense(32, activation='relu', activity_regularizer=regularizers.l1(10e-5)))\n",
    "model.add(Dense(32, activation='relu'))\n",
    "model.add(Dropout(0.25))\n",
    "model.add(Dense(1, activation='sigmoid')) #output\n",
    "model.compile(loss='binary_crossentropy', optimizer='adam', metrics=['accuracy'])\n",
    "\n",
    "nb_epoch = 100\n",
    "batch_size = 2000\n",
    "\n",
    "#def train_and_evaluate__model(model, data, label, data_test, label_test):\n",
    "\n",
    "model.fit(\n",
    "        X_train_matrix, y_train.values, validation_split=0.1, \n",
    "        #callbacks=[early_stopping],\n",
    "        class_weight=[0.5, 100], \n",
    "        epochs = nb_epoch,\n",
    "        batch_size = batch_size\n",
    ")\n",
    "# skf = StratifiedKFold(y_train, n_folds=10, shuffle=True)\n",
    "# for i, (train, test) in enumerate(skf):\n",
    "#     print \"Running Fold\", i+1, \"/\", n_folds\n",
    "#     model = None # Clearing the NN.\n",
    "#     model = create_model()\n",
    "#     train_and_evaluate_model(model, X_train[train], y_train[train], X_test[test], y_test[test))"
   ]
  },
  {
   "cell_type": "code",
   "execution_count": null,
   "metadata": {
    "collapsed": true
   },
   "outputs": [],
   "source": [
    "model.summary()"
   ]
  },
  {
   "cell_type": "code",
   "execution_count": null,
   "metadata": {
    "collapsed": true
   },
   "outputs": [],
   "source": [
    "X_test_matrix.shape, np.sum(y_train.values)"
   ]
  },
  {
   "cell_type": "code",
   "execution_count": null,
   "metadata": {
    "collapsed": true
   },
   "outputs": [],
   "source": [
    "X_test_matrix = X_test.as_matrix(columns=[X_test.columns[:]])\n",
    "preds = model.predict(X_train_matrix)\n",
    "preds\n",
    "#fail the neural net still thinks everyone is 0\n",
    "#accuracy = float(np.sum(preds.flatten() == y_test)/y_test.shape[0])\n",
    "#accuracy"
   ]
  },
  {
   "cell_type": "markdown",
   "metadata": {},
   "source": [
    "# Autoencoder (Doesn't work)\n",
    "\n",
    "(didnt work the loss is incredulous)\n",
    "this is based from the inspiration i got from this post by Veneline Valkov\n",
    "\n",
    "https://medium.com/@curiousily/credit-card-fraud-detection-using-autoencoders-in-keras-tensorflow-for-hackers-part-vii-20e0c85301bd"
   ]
  },
  {
   "cell_type": "code",
   "execution_count": null,
   "metadata": {
    "collapsed": true
   },
   "outputs": [],
   "source": [
    "X_train, X_test, y_train, y_test, testDF = loadData(logTransform=False, \n",
    "                                                    impute=False, \n",
    "                                                    preprocessed=True, continuous=True)"
   ]
  },
  {
   "cell_type": "code",
   "execution_count": null,
   "metadata": {
    "collapsed": true
   },
   "outputs": [],
   "source": [
    "X_train.columns"
   ]
  },
  {
   "cell_type": "code",
   "execution_count": null,
   "metadata": {
    "collapsed": true
   },
   "outputs": [],
   "source": [
    "%%R -i X_train \n",
    "\n",
    "suppressWarnings({ \n",
    "        library(tidyverse)\n",
    "        library(GGally)\n",
    "        X_train %>% #select(-DebtRatio, -NumberOfTime30.59DaysPastDueNotWorse, -MonthlyIncome, \n",
    "#                                    -NumberOfOpenCreditLinesAndLoans, -NumberOfTimes90DaysLate, \n",
    "#                                    -NumberRealEstateLoansOrLines, -NumberOfTime60.89DaysPastDueNotWorse) %>% \n",
    "        ggpairs() %>%\n",
    "        ggsave(filename=\"ggpairs_selected.png\", w=30, h=30, dpi=300) \n",
    "})"
   ]
  },
  {
   "cell_type": "markdown",
   "metadata": {},
   "source": [
    "<img src=\"./ggpairs_selected.png\">\n",
    "<caption><center> **Figure 3**: Pairs plot</center></caption><br>"
   ]
  },
  {
   "cell_type": "code",
   "execution_count": null,
   "metadata": {
    "collapsed": true
   },
   "outputs": [],
   "source": [
    "defaulting = X_train[y_train == 1]\n",
    "normal = X_train[y_train == 0]\n",
    "normal_test = X_test[y_test == 0]"
   ]
  },
  {
   "cell_type": "code",
   "execution_count": null,
   "metadata": {
    "collapsed": true
   },
   "outputs": [],
   "source": [
    "normal = normal.values\n",
    "normal_test = normal_test.values\n",
    "normal_test.shape, normal.shape, "
   ]
  },
  {
   "cell_type": "code",
   "execution_count": null,
   "metadata": {
    "collapsed": true
   },
   "outputs": [],
   "source": [
    "#from sklearn.preprocessing import StandardScaler\n",
    "#data['Amount'] = StandardScaler().fit_transform(data['Amount'].values.reshape(-1, 1))\n",
    "\n",
    "input_dim = X_train.shape[1]\n",
    "encoding_dim = 18 \n",
    "\n",
    "input_layer = Input(shape=(input_dim, ))\n",
    "\n",
    "encoder = Dense(encoding_dim, activation=\"tanh\", \n",
    "                activity_regularizer=regularizers.l1(10e-5))(input_layer)\n",
    "encoder = Dense(int(encoding_dim / 2), activation=\"relu\")(encoder)\n",
    "\n",
    "decoder = Dense(int(encoding_dim / 2), activation='tanh')(encoder)\n",
    "decoder = Dense(input_dim, activation='relu')(decoder)\n",
    "\n",
    "autoencoder = Model(input=input_layer, output=decoder)"
   ]
  },
  {
   "cell_type": "code",
   "execution_count": null,
   "metadata": {
    "collapsed": true
   },
   "outputs": [],
   "source": [
    "from keras.callbacks import TensorBoard\n",
    "from keras.callbacks import ModelCheckpoint \n",
    "from keras.callbacks import EarlyStopping\n",
    "early_stopping = EarlyStopping(monitor='val_loss', min_delta=0, patience=3, verbose=0, mode='auto')\n",
    "\n",
    "nb_epoch = 100\n",
    "batch_size = 1000\n",
    "\n",
    "autoencoder.compile(optimizer='adam', \n",
    "                    loss='mean_squared_error', \n",
    "                    metrics=['accuracy'])\n",
    "autoencoder.summary()\n",
    "checkpointer = ModelCheckpoint(filepath=\"model2.h5\",\n",
    "                               verbose=0,\n",
    "                               save_best_only=True)\n",
    "tensorboard = TensorBoard(log_dir='./logs',\n",
    "                          histogram_freq=0,\n",
    "                          write_graph=True,\n",
    "                          write_images=True)"
   ]
  },
  {
   "cell_type": "code",
   "execution_count": null,
   "metadata": {
    "collapsed": true
   },
   "outputs": [],
   "source": [
    "history = autoencoder.fit(normal, normal,\n",
    "                    nb_epoch=nb_epoch,\n",
    "                    batch_size=batch_size,\n",
    "                    shuffle=True,\n",
    "                    validation_data=(normal_test, normal_test),\n",
    "                    verbose=1,\n",
    "                    callbacks=[tensorboard, checkpointer]).history\n",
    "\n",
    "#gave up the loss is too fucking big"
   ]
  },
  {
   "cell_type": "code",
   "execution_count": null,
   "metadata": {
    "collapsed": true
   },
   "outputs": [],
   "source": [
    "plt.plot(history['loss'])\n",
    "plt.plot(history['val_loss'])\n",
    "plt.title('model loss')\n",
    "plt.ylabel('loss')\n",
    "plt.xlabel('epoch')\n",
    "plt.legend(['train', 'test'], loc='upper right');"
   ]
  }
 ],
 "metadata": {
  "anaconda-cloud": {},
  "kernelspec": {
   "display_name": "Python 3",
   "language": "python",
   "name": "python3"
  },
  "language_info": {
   "codemirror_mode": {
    "name": "ipython",
    "version": 3
   },
   "file_extension": ".py",
   "mimetype": "text/x-python",
   "name": "python",
   "nbconvert_exporter": "python",
   "pygments_lexer": "ipython3",
   "version": "3.6.3"
  }
 },
 "nbformat": 4,
 "nbformat_minor": 2
}
